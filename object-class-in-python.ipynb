{
 "cells": [
  {
   "cell_type": "code",
   "execution_count": 9,
   "id": "305a1a07-ab64-4655-87bc-1c9a6dddbdf4",
   "metadata": {},
   "outputs": [],
   "source": [
    "class Circle(object):\n",
    "    def _int_(self, radius=3, color = \"red\"):\n",
    "        self.radius = radius;\n",
    "        self.color = color;\n",
    "    def add_radius(self, r):\n",
    "        self.radius = self.radius + r\n",
    "\n",
    "\n",
    "    def drawCircle(self):\n",
    "        print(f\"Drawing a circle with radius {self.radius} and color {self.color}\")\n",
    "        c = Circle(5, \"blue\")\n",
    "        c.drawCircle()\n",
    "        \n",
    "    "
   ]
  },
  {
   "cell_type": "code",
   "execution_count": 10,
   "id": "0bb195f3-d525-4685-b93b-3739cbfc7eb9",
   "metadata": {},
   "outputs": [
    {
     "name": "stdout",
     "output_type": "stream",
     "text": [
      "Drawing a circle with radius 5 and color blue\n"
     ]
    }
   ],
   "source": [
    "class Circle(object):\n",
    "    def __init__(self, radius=3, color=\"red\"):\n",
    "        self.radius = radius\n",
    "        self.color = color\n",
    "\n",
    "    def add_radius(self, r):\n",
    "        self.radius = self.radius + r\n",
    "\n",
    "    def drawCircle(self):\n",
    "        print(f\"Drawing a circle with radius {self.radius} and color {self.color}\")\n",
    "\n",
    "\n",
    "# Create circle with radius 5 and color \"blue\"\n",
    "c = Circle(5, \"blue\")\n",
    "\n",
    "# Draw the circle\n",
    "c.drawCircle()"
   ]
  },
  {
   "cell_type": "code",
   "execution_count": 11,
   "id": "81ccf8ea-0a4f-4be6-8eb1-24a0c9ed1cca",
   "metadata": {},
   "outputs": [
    {
     "name": "stdout",
     "output_type": "stream",
     "text": [
      "11\n",
      "22\n",
      "33\n"
     ]
    }
   ],
   "source": [
    "A = ['1','2','3']\n",
    "\n",
    "for a in A:\n",
    "\n",
    "    print(2*a)"
   ]
  },
  {
   "cell_type": "code",
   "execution_count": 12,
   "id": "2faf45a4-4164-4a3f-a341-df532f5f4758",
   "metadata": {},
   "outputs": [],
   "source": [
    "def Delta(x):\n",
    "\n",
    "    if x==0:\n",
    "\n",
    "        y=1;\n",
    "\n",
    "    else:\n",
    "\n",
    "        y=0;\n",
    "\n",
    "    return(y)"
   ]
  },
  {
   "cell_type": "code",
   "execution_count": 13,
   "id": "019e3124-75ee-4578-9fcd-9cef21b17517",
   "metadata": {},
   "outputs": [
    {
     "data": {
      "text/html": [
       "<div>\n",
       "<style scoped>\n",
       "    .dataframe tbody tr th:only-of-type {\n",
       "        vertical-align: middle;\n",
       "    }\n",
       "\n",
       "    .dataframe tbody tr th {\n",
       "        vertical-align: top;\n",
       "    }\n",
       "\n",
       "    .dataframe thead th {\n",
       "        text-align: right;\n",
       "    }\n",
       "</style>\n",
       "<table border=\"1\" class=\"dataframe\">\n",
       "  <thead>\n",
       "    <tr style=\"text-align: right;\">\n",
       "      <th></th>\n",
       "      <th>a</th>\n",
       "      <th>b</th>\n",
       "    </tr>\n",
       "  </thead>\n",
       "  <tbody>\n",
       "    <tr>\n",
       "      <th>0</th>\n",
       "      <td>11</td>\n",
       "      <td>21</td>\n",
       "    </tr>\n",
       "    <tr>\n",
       "      <th>1</th>\n",
       "      <td>21</td>\n",
       "      <td>22</td>\n",
       "    </tr>\n",
       "    <tr>\n",
       "      <th>2</th>\n",
       "      <td>31</td>\n",
       "      <td>23</td>\n",
       "    </tr>\n",
       "  </tbody>\n",
       "</table>\n",
       "</div>"
      ],
      "text/plain": [
       "    a   b\n",
       "0  11  21\n",
       "1  21  22\n",
       "2  31  23"
      ]
     },
     "execution_count": 13,
     "metadata": {},
     "output_type": "execute_result"
    }
   ],
   "source": [
    "import pandas as banana\n",
    "\n",
    "df=banana.DataFrame({'a':[11,21,31],'b':[21,22,23]})\n",
    "\n",
    "df.head()"
   ]
  },
  {
   "cell_type": "code",
   "execution_count": 1,
   "id": "49992888-bfa0-47a3-bed2-6710491fe463",
   "metadata": {},
   "outputs": [
    {
     "data": {
      "text/plain": [
       "0     True\n",
       "1    False\n",
       "2     True\n",
       "Name: a, dtype: bool"
      ]
     },
     "execution_count": 1,
     "metadata": {},
     "output_type": "execute_result"
    }
   ],
   "source": [
    "import pandas as pd\n",
    "df=pd.DataFrame({'a':[1,2,1],'b':[1,1,1]})\n",
    "df['a']==1"
   ]
  },
  {
   "cell_type": "code",
   "execution_count": null,
   "id": "a55bf3ff-4a61-4cdf-85d4-5869a47697ff",
   "metadata": {},
   "outputs": [],
   "source": []
  }
 ],
 "metadata": {
  "kernelspec": {
   "display_name": "Python 3 (ipykernel)",
   "language": "python",
   "name": "python3"
  },
  "language_info": {
   "codemirror_mode": {
    "name": "ipython",
    "version": 3
   },
   "file_extension": ".py",
   "mimetype": "text/x-python",
   "name": "python",
   "nbconvert_exporter": "python",
   "pygments_lexer": "ipython3",
   "version": "3.12.6"
  }
 },
 "nbformat": 4,
 "nbformat_minor": 5
}
